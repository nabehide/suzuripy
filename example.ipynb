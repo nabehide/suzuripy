{
 "cells": [
  {
   "cell_type": "code",
   "execution_count": null,
   "metadata": {},
   "outputs": [],
   "source": [
    "import json\n",
    "from suzuripy import SuzuriClient\n",
    "\n",
    "SUZURI_API_KEY = \"YOUR_API_KEY\"  # REPLACE YOUR API KEY\n",
    "\n",
    "client = SuzuriClient(key=SUZURI_API_KEY)"
   ]
  },
  {
   "cell_type": "code",
   "execution_count": null,
   "metadata": {},
   "outputs": [],
   "source": [
    "# Activity\n",
    "r = client.getActivities(limit=10)\n",
    "r = client.getUnreads()\n",
    "# showResult(r)"
   ]
  },
  {
   "cell_type": "code",
   "execution_count": null,
   "metadata": {},
   "outputs": [],
   "source": [
    "# Choice\n",
    "r = client.getChoice(choiceId=15402)\n",
    "r = client.createChoice(\n",
    "    title=\"choice test\",\n",
    "    description=\"猫の商品を沢山集めてみました。\",\n",
    "    bannerUrl=(\"https://dp3obxrw75ln8.cloudfront.net/choices/banners/7.jpg?1415260246\"),\n",
    "    choiceProducts=[\n",
    "        {\n",
    "            \"productId\": 2737748,\n",
    "            \"itemVariantId\": 1,\n",
    "        },\n",
    "    ],\n",
    ")\n",
    "choiceId = json.loads(r.text)[\"choice\"][\"id\"]\n",
    "r = client.addProductToChoice(choiceId, productId=2737748, itemVariantId=2)\n",
    "r = client.removeProductFromChoice(choiceId, productId=2737748, itemVariantId=2)\n",
    "r = client.updateChoice(\n",
    "    choiceId,\n",
    "    title=\"choice test\",\n",
    "    description=\"猫の商品を沢山集めてみました。\",\n",
    "    bannerUrl=(\"https://dp3obxrw75ln8.cloudfront.net/choices/banners/7.jpg?1415260246\"),\n",
    "    choiceProducts=[\n",
    "        {\n",
    "            \"productId\": 2737748,\n",
    "            \"itemVariantId\": 1,\n",
    "        },\n",
    "    ],\n",
    ")\n",
    "r = client.deleteChoice(choiceId)\n",
    "r = client.getChoiceList(limit=20, offset=0, userId=None, userName=None)"
   ]
  },
  {
   "cell_type": "code",
   "execution_count": null,
   "metadata": {},
   "outputs": [],
   "source": [
    "# Favorite\n",
    "r = client.getFavoriteOfProduct(productId=2737748, itemId=None, limit=None)\n",
    "r = client.getFavoriteOfUser(userId=217290)\n",
    "r = client.createFavoriteToProduct(productId=2737748, annonymouse=True)"
   ]
  },
  {
   "cell_type": "code",
   "execution_count": null,
   "metadata": {},
   "outputs": [],
   "source": [
    "# Item\n",
    "r = client.getItemList()"
   ]
  },
  {
   "cell_type": "code",
   "execution_count": null,
   "metadata": {},
   "outputs": [],
   "source": [
    "# Material\n",
    "r = client.getMaterialList()\n",
    "r = client.createMaterial(\n",
    "    texture=\"https://41.media.tumblr.com/QA9JpdgnOc8ov98s1C4S5EjJ_500.jpg\",\n",
    "    title=\"test_title\",\n",
    "    price=100,\n",
    "    description=\"test_description\",\n",
    "    products=[\n",
    "        {\n",
    "            \"itemId\": 1,\n",
    "            \"exemplaryItemVariantId\": 151,\n",
    "            \"published\": True,\n",
    "            \"resizeMode\": \"contain\",\n",
    "            # \"sub_materials\": [\n",
    "            #     {\n",
    "            #         \"texture\": (\"https://41.media.tumblr.com/\"\n",
    "            #                     \"QA9JpdgnOc8ov98s1C4S5EjJ_500.jpg\"),\n",
    "            #         \"printSide\": \"back\",\n",
    "            #         \"enabled\": True,\n",
    "            #     },\n",
    "            # ]\n",
    "        },\n",
    "    ]\n",
    ")\n",
    "materialId = json.loads(r.text)[\"material\"][\"id\"]\n",
    "r = client.updateMaterial(\n",
    "    materialId,\n",
    "    title=\"AAスリスリくん\",\n",
    "    price=100,\n",
    "    description=\"description_test\",\n",
    "    products=[\n",
    "        {\n",
    "            \"itemId\": 1,\n",
    "            \"exemplaryItemVariantId\": 1,\n",
    "            \"itemVariantId\": 1,\n",
    "            \"published\": True,\n",
    "            \"resizeMode\": \"contain\",\n",
    "        },\n",
    "    ]\n",
    ")\n",
    "r = client.deleteMaterial(materialId)"
   ]
  },
  {
   "cell_type": "code",
   "execution_count": null,
   "metadata": {},
   "outputs": [],
   "source": [
    "# Product\n",
    "r = client.getProductList()\n",
    "r = client.searchProduct(limit=None, offset=None, q=None, itemId=None)\n",
    "r = client.getProduct(productId=2737748)"
   ]
  },
  {
   "cell_type": "code",
   "execution_count": null,
   "metadata": {},
   "outputs": [],
   "source": [
    "# User\n",
    "r = client.getUserList(name=None, limit=None, offset=None)\n",
    "r = client.getUser(userId=217290)\n",
    "r = client.getUserSelf()\n",
    "r = client.updateUserSelf()"
   ]
  },
  {
   "cell_type": "code",
   "execution_count": null,
   "metadata": {},
   "outputs": [],
   "source": [
    "def showResult(response):\n",
    "    if response.status_code == 200:\n",
    "        print(\"[success]\")\n",
    "        print(json.dumps(json.loads(response.text), ensure_ascii=False, indent=2))    else if response.status_code == [204]:\n",
    "        print(\"[success]\")\n",
    "    else:\n",
    "        print(\"[failed]\", \"status_code:\", response.status_code)\n",
    "        print(json.dumps(json.loads(response.text), ensure_ascii=False, indent=2))"
   ]
  }
 ],
 "metadata": {
  "kernelspec": {
   "display_name": "Python 3",
   "language": "python",
   "name": "python3"
  },
  "language_info": {
   "codemirror_mode": {
    "name": "ipython",
    "version": 3
   },
   "file_extension": ".py",
   "mimetype": "text/x-python",
   "name": "python",
   "nbconvert_exporter": "python",
   "pygments_lexer": "ipython3",
   "version": "3.6.5"
  }
 },
 "nbformat": 4,
 "nbformat_minor": 2
}
